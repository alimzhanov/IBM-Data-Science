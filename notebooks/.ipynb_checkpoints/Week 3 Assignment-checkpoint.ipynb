{
 "cells": [
  {
   "cell_type": "markdown",
   "metadata": {},
   "source": [
    "# Peer-graded Assignment: Segmenting and Clustering Neighborhoods in Toronto"
   ]
  },
  {
   "cell_type": "markdown",
   "metadata": {},
   "source": [
    "I will use amazing BeautifulSoup library to parse content from Wikipedia."
   ]
  },
  {
   "cell_type": "code",
   "execution_count": 210,
   "metadata": {},
   "outputs": [],
   "source": [
    "import pandas as pd\n",
    "import numpy as np\n",
    "from bs4 import BeautifulSoup\n",
    "import requests\n",
    "import folium\n",
    "from geopy.geocoders import Nominatim"
   ]
  },
  {
   "cell_type": "code",
   "execution_count": 149,
   "metadata": {},
   "outputs": [],
   "source": [
    "url = 'https://en.wikipedia.org/wiki/List_of_postal_codes_of_Canada:_M'"
   ]
  },
  {
   "cell_type": "code",
   "execution_count": 150,
   "metadata": {},
   "outputs": [],
   "source": [
    "# Using requests library get the code of the page as text, then create a BeautifulSoup object for further operations.\n",
    "page_content = requests.get(url).text\n",
    "soup = BeautifulSoup(page_content, 'html.parser')"
   ]
  },
  {
   "cell_type": "code",
   "execution_count": 124,
   "metadata": {},
   "outputs": [],
   "source": [
    "# Find parameters of required table and find its code\n",
    "table = soup.find('table', {'class':'wikitable sortable'})"
   ]
  },
  {
   "cell_type": "code",
   "execution_count": 165,
   "metadata": {},
   "outputs": [
    {
     "name": "stdout",
     "output_type": "stream",
     "text": [
      "180 rows of data\n"
     ]
    }
   ],
   "source": [
    "# \"tr\" tag indicates a row. Iterate through all rows and append \n",
    "rows = table.find_all('tr')\n",
    "headers = []\n",
    "data = []\n",
    "parsed_headers = False\n",
    "for row in rows:\n",
    "    \n",
    "    if not parsed_headers and len(row.find_all('th')) > 0:\n",
    "        for header in row.find_all('th'):\n",
    "            headers.append(header.string[:-1])\n",
    "    else:\n",
    "        temp_data = {}\n",
    "        for i in range(len(headers)):\n",
    "            temp_data[headers[i]] = row.find_all('td')[i].string[:-1]\n",
    "        data.append(temp_data)\n",
    "print(f'{len(data)} rows of data')"
   ]
  },
  {
   "cell_type": "code",
   "execution_count": 167,
   "metadata": {},
   "outputs": [
    {
     "data": {
      "text/html": [
       "<div>\n",
       "<style scoped>\n",
       "    .dataframe tbody tr th:only-of-type {\n",
       "        vertical-align: middle;\n",
       "    }\n",
       "\n",
       "    .dataframe tbody tr th {\n",
       "        vertical-align: top;\n",
       "    }\n",
       "\n",
       "    .dataframe thead th {\n",
       "        text-align: right;\n",
       "    }\n",
       "</style>\n",
       "<table border=\"1\" class=\"dataframe\">\n",
       "  <thead>\n",
       "    <tr style=\"text-align: right;\">\n",
       "      <th></th>\n",
       "      <th>Postal Code</th>\n",
       "      <th>Borough</th>\n",
       "      <th>Neighborhood</th>\n",
       "    </tr>\n",
       "  </thead>\n",
       "  <tbody>\n",
       "    <tr>\n",
       "      <th>0</th>\n",
       "      <td>M1A</td>\n",
       "      <td>Not assigned</td>\n",
       "      <td>Not assigned</td>\n",
       "    </tr>\n",
       "    <tr>\n",
       "      <th>1</th>\n",
       "      <td>M2A</td>\n",
       "      <td>Not assigned</td>\n",
       "      <td>Not assigned</td>\n",
       "    </tr>\n",
       "    <tr>\n",
       "      <th>2</th>\n",
       "      <td>M3A</td>\n",
       "      <td>North York</td>\n",
       "      <td>Parkwoods</td>\n",
       "    </tr>\n",
       "    <tr>\n",
       "      <th>3</th>\n",
       "      <td>M4A</td>\n",
       "      <td>North York</td>\n",
       "      <td>Victoria Village</td>\n",
       "    </tr>\n",
       "    <tr>\n",
       "      <th>4</th>\n",
       "      <td>M5A</td>\n",
       "      <td>Downtown Toronto</td>\n",
       "      <td>Regent Park, Harbourfront</td>\n",
       "    </tr>\n",
       "  </tbody>\n",
       "</table>\n",
       "</div>"
      ],
      "text/plain": [
       "  Postal Code           Borough               Neighborhood\n",
       "0         M1A      Not assigned               Not assigned\n",
       "1         M2A      Not assigned               Not assigned\n",
       "2         M3A        North York                  Parkwoods\n",
       "3         M4A        North York           Victoria Village\n",
       "4         M5A  Downtown Toronto  Regent Park, Harbourfront"
      ]
     },
     "execution_count": 167,
     "metadata": {},
     "output_type": "execute_result"
    }
   ],
   "source": [
    "# creating a dataframe\n",
    "df = pd.DataFrame(data)\n",
    "df.head()"
   ]
  },
  {
   "cell_type": "code",
   "execution_count": 169,
   "metadata": {},
   "outputs": [
    {
     "data": {
      "text/html": [
       "<div>\n",
       "<style scoped>\n",
       "    .dataframe tbody tr th:only-of-type {\n",
       "        vertical-align: middle;\n",
       "    }\n",
       "\n",
       "    .dataframe tbody tr th {\n",
       "        vertical-align: top;\n",
       "    }\n",
       "\n",
       "    .dataframe thead th {\n",
       "        text-align: right;\n",
       "    }\n",
       "</style>\n",
       "<table border=\"1\" class=\"dataframe\">\n",
       "  <thead>\n",
       "    <tr style=\"text-align: right;\">\n",
       "      <th></th>\n",
       "      <th>Postal Code</th>\n",
       "      <th>Borough</th>\n",
       "      <th>Neighborhood</th>\n",
       "    </tr>\n",
       "  </thead>\n",
       "  <tbody>\n",
       "    <tr>\n",
       "      <th>2</th>\n",
       "      <td>M3A</td>\n",
       "      <td>North York</td>\n",
       "      <td>Parkwoods</td>\n",
       "    </tr>\n",
       "    <tr>\n",
       "      <th>3</th>\n",
       "      <td>M4A</td>\n",
       "      <td>North York</td>\n",
       "      <td>Victoria Village</td>\n",
       "    </tr>\n",
       "    <tr>\n",
       "      <th>4</th>\n",
       "      <td>M5A</td>\n",
       "      <td>Downtown Toronto</td>\n",
       "      <td>Regent Park, Harbourfront</td>\n",
       "    </tr>\n",
       "    <tr>\n",
       "      <th>5</th>\n",
       "      <td>M6A</td>\n",
       "      <td>North York</td>\n",
       "      <td>Lawrence Manor, Lawrence Heights</td>\n",
       "    </tr>\n",
       "    <tr>\n",
       "      <th>6</th>\n",
       "      <td>M7A</td>\n",
       "      <td>Downtown Toronto</td>\n",
       "      <td>Queen's Park, Ontario Provincial Government</td>\n",
       "    </tr>\n",
       "    <tr>\n",
       "      <th>...</th>\n",
       "      <td>...</td>\n",
       "      <td>...</td>\n",
       "      <td>...</td>\n",
       "    </tr>\n",
       "    <tr>\n",
       "      <th>160</th>\n",
       "      <td>M8X</td>\n",
       "      <td>Etobicoke</td>\n",
       "      <td>The Kingsway, Montgomery Road, Old Mill North</td>\n",
       "    </tr>\n",
       "    <tr>\n",
       "      <th>165</th>\n",
       "      <td>M4Y</td>\n",
       "      <td>Downtown Toronto</td>\n",
       "      <td>Church and Wellesley</td>\n",
       "    </tr>\n",
       "    <tr>\n",
       "      <th>168</th>\n",
       "      <td>M7Y</td>\n",
       "      <td>East Toronto</td>\n",
       "      <td>Business reply mail Processing Centre, South C...</td>\n",
       "    </tr>\n",
       "    <tr>\n",
       "      <th>169</th>\n",
       "      <td>M8Y</td>\n",
       "      <td>Etobicoke</td>\n",
       "      <td>Old Mill South, King's Mill Park, Sunnylea, Hu...</td>\n",
       "    </tr>\n",
       "    <tr>\n",
       "      <th>178</th>\n",
       "      <td>M8Z</td>\n",
       "      <td>Etobicoke</td>\n",
       "      <td>Mimico NW, The Queensway West, South of Bloor,...</td>\n",
       "    </tr>\n",
       "  </tbody>\n",
       "</table>\n",
       "<p>103 rows × 3 columns</p>\n",
       "</div>"
      ],
      "text/plain": [
       "    Postal Code           Borough  \\\n",
       "2           M3A        North York   \n",
       "3           M4A        North York   \n",
       "4           M5A  Downtown Toronto   \n",
       "5           M6A        North York   \n",
       "6           M7A  Downtown Toronto   \n",
       "..          ...               ...   \n",
       "160         M8X         Etobicoke   \n",
       "165         M4Y  Downtown Toronto   \n",
       "168         M7Y      East Toronto   \n",
       "169         M8Y         Etobicoke   \n",
       "178         M8Z         Etobicoke   \n",
       "\n",
       "                                          Neighborhood  \n",
       "2                                            Parkwoods  \n",
       "3                                     Victoria Village  \n",
       "4                            Regent Park, Harbourfront  \n",
       "5                     Lawrence Manor, Lawrence Heights  \n",
       "6          Queen's Park, Ontario Provincial Government  \n",
       "..                                                 ...  \n",
       "160      The Kingsway, Montgomery Road, Old Mill North  \n",
       "165                               Church and Wellesley  \n",
       "168  Business reply mail Processing Centre, South C...  \n",
       "169  Old Mill South, King's Mill Park, Sunnylea, Hu...  \n",
       "178  Mimico NW, The Queensway West, South of Bloor,...  \n",
       "\n",
       "[103 rows x 3 columns]"
      ]
     },
     "execution_count": 169,
     "metadata": {},
     "output_type": "execute_result"
    }
   ],
   "source": [
    "# dropping 'Not assigned Boroughs'\n",
    "df = df[df.Borough != 'Not assigned']\n",
    "df"
   ]
  },
  {
   "cell_type": "code",
   "execution_count": 176,
   "metadata": {},
   "outputs": [
    {
     "name": "stdout",
     "output_type": "stream",
     "text": [
      "OK --- No duplicate postal codes\n",
      "OK --- No \"Not assigned\" Neighborhoods\n"
     ]
    }
   ],
   "source": [
    "# checking if there is duplicate postal codes\n",
    "if len(df['Postal Code'].unique()) == df.shape[0]:\n",
    "    print('OK --- No duplicate postal codes')\n",
    "else:\n",
    "    print(f'Not all postal codes are unique')\n",
    "    \n",
    "if (df.Neighborhood == \"Not assigned\").sum() == 0:\n",
    "    print(f'OK --- No \"Not assigned\" Neighborhoods')\n",
    "else:\n",
    "    print(f'{(df.Neighborhood == \"Not assigned\").sum()} not assigned neighborhoods')"
   ]
  },
  {
   "cell_type": "markdown",
   "metadata": {},
   "source": [
    "## Getting coordinates of postal codes"
   ]
  },
  {
   "cell_type": "code",
   "execution_count": 188,
   "metadata": {},
   "outputs": [],
   "source": [
    "geocodes = pd.read_csv('http://cocl.us/Geospatial_data')"
   ]
  },
  {
   "cell_type": "code",
   "execution_count": 189,
   "metadata": {},
   "outputs": [
    {
     "data": {
      "text/html": [
       "<div>\n",
       "<style scoped>\n",
       "    .dataframe tbody tr th:only-of-type {\n",
       "        vertical-align: middle;\n",
       "    }\n",
       "\n",
       "    .dataframe tbody tr th {\n",
       "        vertical-align: top;\n",
       "    }\n",
       "\n",
       "    .dataframe thead th {\n",
       "        text-align: right;\n",
       "    }\n",
       "</style>\n",
       "<table border=\"1\" class=\"dataframe\">\n",
       "  <thead>\n",
       "    <tr style=\"text-align: right;\">\n",
       "      <th></th>\n",
       "      <th>Postal Code</th>\n",
       "      <th>Latitude</th>\n",
       "      <th>Longitude</th>\n",
       "    </tr>\n",
       "  </thead>\n",
       "  <tbody>\n",
       "    <tr>\n",
       "      <th>0</th>\n",
       "      <td>M1B</td>\n",
       "      <td>43.806686</td>\n",
       "      <td>-79.194353</td>\n",
       "    </tr>\n",
       "    <tr>\n",
       "      <th>1</th>\n",
       "      <td>M1C</td>\n",
       "      <td>43.784535</td>\n",
       "      <td>-79.160497</td>\n",
       "    </tr>\n",
       "    <tr>\n",
       "      <th>2</th>\n",
       "      <td>M1E</td>\n",
       "      <td>43.763573</td>\n",
       "      <td>-79.188711</td>\n",
       "    </tr>\n",
       "    <tr>\n",
       "      <th>3</th>\n",
       "      <td>M1G</td>\n",
       "      <td>43.770992</td>\n",
       "      <td>-79.216917</td>\n",
       "    </tr>\n",
       "    <tr>\n",
       "      <th>4</th>\n",
       "      <td>M1H</td>\n",
       "      <td>43.773136</td>\n",
       "      <td>-79.239476</td>\n",
       "    </tr>\n",
       "    <tr>\n",
       "      <th>...</th>\n",
       "      <td>...</td>\n",
       "      <td>...</td>\n",
       "      <td>...</td>\n",
       "    </tr>\n",
       "    <tr>\n",
       "      <th>98</th>\n",
       "      <td>M9N</td>\n",
       "      <td>43.706876</td>\n",
       "      <td>-79.518188</td>\n",
       "    </tr>\n",
       "    <tr>\n",
       "      <th>99</th>\n",
       "      <td>M9P</td>\n",
       "      <td>43.696319</td>\n",
       "      <td>-79.532242</td>\n",
       "    </tr>\n",
       "    <tr>\n",
       "      <th>100</th>\n",
       "      <td>M9R</td>\n",
       "      <td>43.688905</td>\n",
       "      <td>-79.554724</td>\n",
       "    </tr>\n",
       "    <tr>\n",
       "      <th>101</th>\n",
       "      <td>M9V</td>\n",
       "      <td>43.739416</td>\n",
       "      <td>-79.588437</td>\n",
       "    </tr>\n",
       "    <tr>\n",
       "      <th>102</th>\n",
       "      <td>M9W</td>\n",
       "      <td>43.706748</td>\n",
       "      <td>-79.594054</td>\n",
       "    </tr>\n",
       "  </tbody>\n",
       "</table>\n",
       "<p>103 rows × 3 columns</p>\n",
       "</div>"
      ],
      "text/plain": [
       "    Postal Code   Latitude  Longitude\n",
       "0           M1B  43.806686 -79.194353\n",
       "1           M1C  43.784535 -79.160497\n",
       "2           M1E  43.763573 -79.188711\n",
       "3           M1G  43.770992 -79.216917\n",
       "4           M1H  43.773136 -79.239476\n",
       "..          ...        ...        ...\n",
       "98          M9N  43.706876 -79.518188\n",
       "99          M9P  43.696319 -79.532242\n",
       "100         M9R  43.688905 -79.554724\n",
       "101         M9V  43.739416 -79.588437\n",
       "102         M9W  43.706748 -79.594054\n",
       "\n",
       "[103 rows x 3 columns]"
      ]
     },
     "execution_count": 189,
     "metadata": {},
     "output_type": "execute_result"
    }
   ],
   "source": [
    "geocodes"
   ]
  },
  {
   "cell_type": "code",
   "execution_count": 193,
   "metadata": {},
   "outputs": [
    {
     "name": "stdout",
     "output_type": "stream",
     "text": [
      "Initial shape 103\n",
      "After merge shape 103\n"
     ]
    }
   ],
   "source": [
    "#merging dataframes\n",
    "print(f'Initial shape {df.shape[0]}')\n",
    "df = df.merge(geocodes)\n",
    "print(f'After merge shape {df.shape[0]}')"
   ]
  },
  {
   "cell_type": "code",
   "execution_count": 198,
   "metadata": {},
   "outputs": [
    {
     "data": {
      "text/plain": [
       "Postal Code     0\n",
       "Borough         0\n",
       "Neighborhood    0\n",
       "Latitude        0\n",
       "Longitude       0\n",
       "dtype: int64"
      ]
     },
     "execution_count": 198,
     "metadata": {},
     "output_type": "execute_result"
    }
   ],
   "source": [
    "#checking for missing values\n",
    "df.isnull().sum()"
   ]
  },
  {
   "cell_type": "code",
   "execution_count": 200,
   "metadata": {},
   "outputs": [
    {
     "data": {
      "text/html": [
       "<div>\n",
       "<style scoped>\n",
       "    .dataframe tbody tr th:only-of-type {\n",
       "        vertical-align: middle;\n",
       "    }\n",
       "\n",
       "    .dataframe tbody tr th {\n",
       "        vertical-align: top;\n",
       "    }\n",
       "\n",
       "    .dataframe thead th {\n",
       "        text-align: right;\n",
       "    }\n",
       "</style>\n",
       "<table border=\"1\" class=\"dataframe\">\n",
       "  <thead>\n",
       "    <tr style=\"text-align: right;\">\n",
       "      <th></th>\n",
       "      <th>Postal Code</th>\n",
       "      <th>Borough</th>\n",
       "      <th>Neighborhood</th>\n",
       "      <th>Latitude</th>\n",
       "      <th>Longitude</th>\n",
       "    </tr>\n",
       "  </thead>\n",
       "  <tbody>\n",
       "    <tr>\n",
       "      <th>0</th>\n",
       "      <td>M3A</td>\n",
       "      <td>North York</td>\n",
       "      <td>Parkwoods</td>\n",
       "      <td>43.753259</td>\n",
       "      <td>-79.329656</td>\n",
       "    </tr>\n",
       "    <tr>\n",
       "      <th>1</th>\n",
       "      <td>M4A</td>\n",
       "      <td>North York</td>\n",
       "      <td>Victoria Village</td>\n",
       "      <td>43.725882</td>\n",
       "      <td>-79.315572</td>\n",
       "    </tr>\n",
       "    <tr>\n",
       "      <th>2</th>\n",
       "      <td>M5A</td>\n",
       "      <td>Downtown Toronto</td>\n",
       "      <td>Regent Park, Harbourfront</td>\n",
       "      <td>43.654260</td>\n",
       "      <td>-79.360636</td>\n",
       "    </tr>\n",
       "    <tr>\n",
       "      <th>3</th>\n",
       "      <td>M6A</td>\n",
       "      <td>North York</td>\n",
       "      <td>Lawrence Manor, Lawrence Heights</td>\n",
       "      <td>43.718518</td>\n",
       "      <td>-79.464763</td>\n",
       "    </tr>\n",
       "    <tr>\n",
       "      <th>4</th>\n",
       "      <td>M7A</td>\n",
       "      <td>Downtown Toronto</td>\n",
       "      <td>Queen's Park, Ontario Provincial Government</td>\n",
       "      <td>43.662301</td>\n",
       "      <td>-79.389494</td>\n",
       "    </tr>\n",
       "    <tr>\n",
       "      <th>...</th>\n",
       "      <td>...</td>\n",
       "      <td>...</td>\n",
       "      <td>...</td>\n",
       "      <td>...</td>\n",
       "      <td>...</td>\n",
       "    </tr>\n",
       "    <tr>\n",
       "      <th>98</th>\n",
       "      <td>M8X</td>\n",
       "      <td>Etobicoke</td>\n",
       "      <td>The Kingsway, Montgomery Road, Old Mill North</td>\n",
       "      <td>43.653654</td>\n",
       "      <td>-79.506944</td>\n",
       "    </tr>\n",
       "    <tr>\n",
       "      <th>99</th>\n",
       "      <td>M4Y</td>\n",
       "      <td>Downtown Toronto</td>\n",
       "      <td>Church and Wellesley</td>\n",
       "      <td>43.665860</td>\n",
       "      <td>-79.383160</td>\n",
       "    </tr>\n",
       "    <tr>\n",
       "      <th>100</th>\n",
       "      <td>M7Y</td>\n",
       "      <td>East Toronto</td>\n",
       "      <td>Business reply mail Processing Centre, South C...</td>\n",
       "      <td>43.662744</td>\n",
       "      <td>-79.321558</td>\n",
       "    </tr>\n",
       "    <tr>\n",
       "      <th>101</th>\n",
       "      <td>M8Y</td>\n",
       "      <td>Etobicoke</td>\n",
       "      <td>Old Mill South, King's Mill Park, Sunnylea, Hu...</td>\n",
       "      <td>43.636258</td>\n",
       "      <td>-79.498509</td>\n",
       "    </tr>\n",
       "    <tr>\n",
       "      <th>102</th>\n",
       "      <td>M8Z</td>\n",
       "      <td>Etobicoke</td>\n",
       "      <td>Mimico NW, The Queensway West, South of Bloor,...</td>\n",
       "      <td>43.628841</td>\n",
       "      <td>-79.520999</td>\n",
       "    </tr>\n",
       "  </tbody>\n",
       "</table>\n",
       "<p>103 rows × 5 columns</p>\n",
       "</div>"
      ],
      "text/plain": [
       "    Postal Code           Borough  \\\n",
       "0           M3A        North York   \n",
       "1           M4A        North York   \n",
       "2           M5A  Downtown Toronto   \n",
       "3           M6A        North York   \n",
       "4           M7A  Downtown Toronto   \n",
       "..          ...               ...   \n",
       "98          M8X         Etobicoke   \n",
       "99          M4Y  Downtown Toronto   \n",
       "100         M7Y      East Toronto   \n",
       "101         M8Y         Etobicoke   \n",
       "102         M8Z         Etobicoke   \n",
       "\n",
       "                                          Neighborhood   Latitude  Longitude  \n",
       "0                                            Parkwoods  43.753259 -79.329656  \n",
       "1                                     Victoria Village  43.725882 -79.315572  \n",
       "2                            Regent Park, Harbourfront  43.654260 -79.360636  \n",
       "3                     Lawrence Manor, Lawrence Heights  43.718518 -79.464763  \n",
       "4          Queen's Park, Ontario Provincial Government  43.662301 -79.389494  \n",
       "..                                                 ...        ...        ...  \n",
       "98       The Kingsway, Montgomery Road, Old Mill North  43.653654 -79.506944  \n",
       "99                                Church and Wellesley  43.665860 -79.383160  \n",
       "100  Business reply mail Processing Centre, South C...  43.662744 -79.321558  \n",
       "101  Old Mill South, King's Mill Park, Sunnylea, Hu...  43.636258 -79.498509  \n",
       "102  Mimico NW, The Queensway West, South of Bloor,...  43.628841 -79.520999  \n",
       "\n",
       "[103 rows x 5 columns]"
      ]
     },
     "execution_count": 200,
     "metadata": {},
     "output_type": "execute_result"
    }
   ],
   "source": [
    "df"
   ]
  },
  {
   "cell_type": "markdown",
   "metadata": {},
   "source": [
    "# Exploration"
   ]
  },
  {
   "cell_type": "code",
   "execution_count": 217,
   "metadata": {},
   "outputs": [
    {
     "data": {
      "text/html": [
       "<div>\n",
       "<style scoped>\n",
       "    .dataframe tbody tr th:only-of-type {\n",
       "        vertical-align: middle;\n",
       "    }\n",
       "\n",
       "    .dataframe tbody tr th {\n",
       "        vertical-align: top;\n",
       "    }\n",
       "\n",
       "    .dataframe thead th {\n",
       "        text-align: right;\n",
       "    }\n",
       "</style>\n",
       "<table border=\"1\" class=\"dataframe\">\n",
       "  <thead>\n",
       "    <tr style=\"text-align: right;\">\n",
       "      <th></th>\n",
       "      <th>Postal Code</th>\n",
       "      <th>Borough</th>\n",
       "      <th>Neighborhood</th>\n",
       "      <th>Latitude</th>\n",
       "      <th>Longitude</th>\n",
       "    </tr>\n",
       "  </thead>\n",
       "  <tbody>\n",
       "    <tr>\n",
       "      <th>2</th>\n",
       "      <td>M5A</td>\n",
       "      <td>Downtown Toronto</td>\n",
       "      <td>Regent Park, Harbourfront</td>\n",
       "      <td>43.654260</td>\n",
       "      <td>-79.360636</td>\n",
       "    </tr>\n",
       "    <tr>\n",
       "      <th>4</th>\n",
       "      <td>M7A</td>\n",
       "      <td>Downtown Toronto</td>\n",
       "      <td>Queen's Park, Ontario Provincial Government</td>\n",
       "      <td>43.662301</td>\n",
       "      <td>-79.389494</td>\n",
       "    </tr>\n",
       "    <tr>\n",
       "      <th>9</th>\n",
       "      <td>M5B</td>\n",
       "      <td>Downtown Toronto</td>\n",
       "      <td>Garden District, Ryerson</td>\n",
       "      <td>43.657162</td>\n",
       "      <td>-79.378937</td>\n",
       "    </tr>\n",
       "    <tr>\n",
       "      <th>15</th>\n",
       "      <td>M5C</td>\n",
       "      <td>Downtown Toronto</td>\n",
       "      <td>St. James Town</td>\n",
       "      <td>43.651494</td>\n",
       "      <td>-79.375418</td>\n",
       "    </tr>\n",
       "    <tr>\n",
       "      <th>19</th>\n",
       "      <td>M4E</td>\n",
       "      <td>East Toronto</td>\n",
       "      <td>The Beaches</td>\n",
       "      <td>43.676357</td>\n",
       "      <td>-79.293031</td>\n",
       "    </tr>\n",
       "  </tbody>\n",
       "</table>\n",
       "</div>"
      ],
      "text/plain": [
       "   Postal Code           Borough                                 Neighborhood  \\\n",
       "2          M5A  Downtown Toronto                    Regent Park, Harbourfront   \n",
       "4          M7A  Downtown Toronto  Queen's Park, Ontario Provincial Government   \n",
       "9          M5B  Downtown Toronto                     Garden District, Ryerson   \n",
       "15         M5C  Downtown Toronto                               St. James Town   \n",
       "19         M4E      East Toronto                                  The Beaches   \n",
       "\n",
       "     Latitude  Longitude  \n",
       "2   43.654260 -79.360636  \n",
       "4   43.662301 -79.389494  \n",
       "9   43.657162 -79.378937  \n",
       "15  43.651494 -79.375418  \n",
       "19  43.676357 -79.293031  "
      ]
     },
     "execution_count": 217,
     "metadata": {},
     "output_type": "execute_result"
    }
   ],
   "source": [
    "# select region for analysis\n",
    "region = 'Toronto'\n",
    "data = df[df.Borough.str.contains(region)]\n",
    "data.head()"
   ]
  },
  {
   "cell_type": "code",
   "execution_count": 218,
   "metadata": {},
   "outputs": [
    {
     "name": "stdout",
     "output_type": "stream",
     "text": [
      "The geograpical coordinate of Toronto are 43.6534817, -79.3839347.\n"
     ]
    }
   ],
   "source": [
    "address = 'Toronto'\n",
    "\n",
    "geolocator = Nominatim(user_agent=\"toronto_explorer\")\n",
    "location = geolocator.geocode(address)\n",
    "latitude = location.latitude\n",
    "longitude = location.longitude\n",
    "print('The geograpical coordinate of Toronto are {}, {}.'.format(latitude, longitude))"
   ]
  },
  {
   "cell_type": "code",
   "execution_count": 219,
   "metadata": {},
   "outputs": [
    {
     "data": {
      "text/html": [
       "<div style=\"width:100%;\"><div style=\"position:relative;width:100%;height:0;padding-bottom:60%;\"><span style=\"color:#565656\">Make this Notebook Trusted to load map: File -> Trust Notebook</span><iframe src=\"about:blank\" style=\"position:absolute;width:100%;height:100%;left:0;top:0;border:none !important;\" data-html=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 onload=\"this.contentDocument.open();this.contentDocument.write(atob(this.getAttribute('data-html')));this.contentDocument.close();\" allowfullscreen webkitallowfullscreen mozallowfullscreen></iframe></div></div>"
      ],
      "text/plain": [
       "<folium.folium.Map at 0x11b585090>"
      ]
     },
     "execution_count": 219,
     "metadata": {},
     "output_type": "execute_result"
    }
   ],
   "source": [
    "# create map of Toronto using latitude and longitude values\n",
    "map_toronto = folium.Map(location=[latitude, longitude], zoom_start=10)\n",
    "\n",
    "# add markers to map\n",
    "for lat, lng, borough, neighborhood in zip(data['Latitude'], data['Longitude'], data['Borough'], data['Neighborhood']):\n",
    "    label = '{}, {}'.format(neighborhood, borough)\n",
    "    label = folium.Popup(label, parse_html=True)\n",
    "    folium.CircleMarker(\n",
    "        [lat, lng],\n",
    "        radius=5,\n",
    "        popup=label,\n",
    "        color='blue',\n",
    "        fill=True,\n",
    "        fill_color='#3186cc',\n",
    "        fill_opacity=0.7,\n",
    "        parse_html=False).add_to(map_toronto)  \n",
    "    \n",
    "map_toronto"
   ]
  }
 ],
 "metadata": {
  "kernelspec": {
   "display_name": "Python 3",
   "language": "python",
   "name": "python3"
  },
  "language_info": {
   "codemirror_mode": {
    "name": "ipython",
    "version": 3
   },
   "file_extension": ".py",
   "mimetype": "text/x-python",
   "name": "python",
   "nbconvert_exporter": "python",
   "pygments_lexer": "ipython3",
   "version": "3.7.7"
  }
 },
 "nbformat": 4,
 "nbformat_minor": 4
}
